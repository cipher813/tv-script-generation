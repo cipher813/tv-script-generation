{
 "cells": [
  {
   "cell_type": "markdown",
   "metadata": {},
   "source": [
    "# TV Script Generation\n",
    "In this project, you'll generate your own [Simpsons](https://en.wikipedia.org/wiki/The_Simpsons) TV scripts using RNNs.  You'll be using part of the [Simpsons dataset](https://www.kaggle.com/wcukierski/the-simpsons-by-the-data) of scripts from 27 seasons.  The Neural Network you'll build will generate a new TV script for a scene at [Moe's Tavern](https://simpsonswiki.com/wiki/Moe's_Tavern).\n",
    "## Get the Data\n",
    "The data is already provided for you.  You'll be using a subset of the original dataset.  It consists of only the scenes in Moe's Tavern.  This doesn't include other versions of the tavern, like \"Moe's Cavern\", \"Flaming Moe's\", \"Uncle Moe's Family Feed-Bag\", etc.."
   ]
  },
  {
   "cell_type": "code",
   "execution_count": 1,
   "metadata": {},
   "outputs": [],
   "source": [
    "\"\"\"\n",
    "DON'T MODIFY ANYTHING IN THIS CELL\n",
    "\"\"\"\n",
    "import helper\n",
    "\n",
    "data_dir = './data/simpsons/moes_tavern_lines.txt'\n",
    "text = helper.load_data(data_dir)\n",
    "# Ignore notice, since we don't use it for analysing the data\n",
    "text = text[81:]"
   ]
  },
  {
   "cell_type": "code",
   "execution_count": 2,
   "metadata": {},
   "outputs": [
    {
     "data": {
      "text/plain": [
       "'/home/cipher000/anaconda3/envs/tensorflow1.0/bin/python'"
      ]
     },
     "execution_count": 2,
     "metadata": {},
     "output_type": "execute_result"
    }
   ],
   "source": [
    "# Use tensorflow 1.0 and set ipykernel with python -m ipykernel install --user\n",
    "import sys\n",
    "sys.executable"
   ]
  },
  {
   "cell_type": "markdown",
   "metadata": {},
   "source": [
    "## Explore the Data\n",
    "Play around with `view_sentence_range` to view different parts of the data."
   ]
  },
  {
   "cell_type": "code",
   "execution_count": 3,
   "metadata": {},
   "outputs": [
    {
     "name": "stdout",
     "output_type": "stream",
     "text": [
      "Dataset Stats\n",
      "Roughly the number of unique words: 11492\n",
      "Number of scenes: 262\n",
      "Average number of sentences in each scene: 15.248091603053435\n",
      "Number of lines: 4257\n",
      "Average number of words in each line: 11.50434578341555\n",
      "\n",
      "The sentences 0 to 10:\n",
      "Moe_Szyslak: (INTO PHONE) Moe's Tavern. Where the elite meet to drink.\n",
      "Bart_Simpson: Eh, yeah, hello, is Mike there? Last name, Rotch.\n",
      "Moe_Szyslak: (INTO PHONE) Hold on, I'll check. (TO BARFLIES) Mike Rotch. Mike Rotch. Hey, has anybody seen Mike Rotch, lately?\n",
      "Moe_Szyslak: (INTO PHONE) Listen you little puke. One of these days I'm gonna catch you, and I'm gonna carve my name on your back with an ice pick.\n",
      "Moe_Szyslak: What's the matter Homer? You're not your normal effervescent self.\n",
      "Homer_Simpson: I got my problems, Moe. Give me another one.\n",
      "Moe_Szyslak: Homer, hey, you should not drink to forget your problems.\n",
      "Barney_Gumble: Yeah, you should only drink to enhance your social skills.\n",
      "\n",
      "\n"
     ]
    }
   ],
   "source": [
    "view_sentence_range = (0, 10)\n",
    "\n",
    "\"\"\"\n",
    "DON'T MODIFY ANYTHING IN THIS CELL\n",
    "\"\"\"\n",
    "import numpy as np\n",
    "\n",
    "print('Dataset Stats')\n",
    "print('Roughly the number of unique words: {}'.format(len({word: None for word in text.split()})))\n",
    "scenes = text.split('\\n\\n')\n",
    "print('Number of scenes: {}'.format(len(scenes)))\n",
    "sentence_count_scene = [scene.count('\\n') for scene in scenes]\n",
    "print('Average number of sentences in each scene: {}'.format(np.average(sentence_count_scene)))\n",
    "\n",
    "sentences = [sentence for scene in scenes for sentence in scene.split('\\n')]\n",
    "print('Number of lines: {}'.format(len(sentences)))\n",
    "word_count_sentence = [len(sentence.split()) for sentence in sentences]\n",
    "print('Average number of words in each line: {}'.format(np.average(word_count_sentence)))\n",
    "\n",
    "print()\n",
    "print('The sentences {} to {}:'.format(*view_sentence_range))\n",
    "print('\\n'.join(text.split('\\n')[view_sentence_range[0]:view_sentence_range[1]]))"
   ]
  },
  {
   "cell_type": "markdown",
   "metadata": {},
   "source": [
    "## Implement Preprocessing Functions\n",
    "The first thing to do to any dataset is preprocessing.  Implement the following preprocessing functions below:\n",
    "- Lookup Table\n",
    "- Tokenize Punctuation\n",
    "\n",
    "### Lookup Table\n",
    "To create a word embedding, you first need to transform the words to ids.  In this function, create two dictionaries:\n",
    "- Dictionary to go from the words to an id, we'll call `vocab_to_int`\n",
    "- Dictionary to go from the id to word, we'll call `int_to_vocab`\n",
    "\n",
    "Return these dictionaries in the following tuple `(vocab_to_int, int_to_vocab)`"
   ]
  },
  {
   "cell_type": "code",
   "execution_count": 4,
   "metadata": {},
   "outputs": [
    {
     "name": "stdout",
     "output_type": "stream",
     "text": [
      "Tests Passed\n"
     ]
    }
   ],
   "source": [
    "import numpy as np\n",
    "import problem_unittests as tests\n",
    "\n",
    "def create_lookup_tables(text):\n",
    "    \"\"\"\n",
    "    Create lookup tables for vocabulary\n",
    "    :param text: The text of tv scripts split into words\n",
    "    :return: A tuple of dicts (vocab_to_int, int_to_vocab)\n",
    "    \"\"\"\n",
    "    # TODO: Implement Function\n",
    "    vocab = sorted(set(text))\n",
    "    vocab_to_int = {c: i for i, c in enumerate(vocab)}\n",
    "    int_to_vocab = dict(enumerate(vocab))\n",
    "    return (vocab_to_int, int_to_vocab)\n",
    "\n",
    "\n",
    "\"\"\"\n",
    "DON'T MODIFY ANYTHING IN THIS CELL THAT IS BELOW THIS LINE\n",
    "\"\"\"\n",
    "tests.test_create_lookup_tables(create_lookup_tables)"
   ]
  },
  {
   "cell_type": "markdown",
   "metadata": {},
   "source": [
    "### Tokenize Punctuation\n",
    "We'll be splitting the script into a word array using spaces as delimiters.  However, punctuations like periods and exclamation marks make it hard for the neural network to distinguish between the word \"bye\" and \"bye!\".\n",
    "\n",
    "Implement the function `token_lookup` to return a dict that will be used to tokenize symbols like \"!\" into \"||Exclamation_Mark||\".  Create a dictionary for the following symbols where the symbol is the key and value is the token:\n",
    "- Period ( . )\n",
    "- Comma ( , )\n",
    "- Quotation Mark ( \" )\n",
    "- Semicolon ( ; )\n",
    "- Exclamation mark ( ! )\n",
    "- Question mark ( ? )\n",
    "- Left Parentheses ( ( )\n",
    "- Right Parentheses ( ) )\n",
    "- Dash ( -- )\n",
    "- Return ( \\n )\n",
    "\n",
    "This dictionary will be used to token the symbols and add the delimiter (space) around it.  This separates the symbols as it's own word, making it easier for the neural network to predict on the next word. Make sure you don't use a token that could be confused as a word. Instead of using the token \"dash\", try using something like \"||dash||\"."
   ]
  },
  {
   "cell_type": "code",
   "execution_count": 5,
   "metadata": {},
   "outputs": [
    {
     "name": "stdout",
     "output_type": "stream",
     "text": [
      "Tests Passed\n"
     ]
    }
   ],
   "source": [
    "def token_lookup():\n",
    "    \"\"\"\n",
    "    Generate a dict to turn punctuation into a token.\n",
    "    :return: Tokenize dictionary where the key is the punctuation and the value is the token\n",
    "    \"\"\"\n",
    "    # TODO: Implement Function\n",
    "    token_dict = {}\n",
    "    token_dict['.'] = '||period||'\n",
    "    token_dict[','] = '||comma||'    \n",
    "    token_dict['\"'] = '||quotation_mark||'    \n",
    "    token_dict[';'] = '||semicolon||'\n",
    "    token_dict['!'] = '||exclamation_mark||'    \n",
    "    token_dict['?'] = '||question_mark||'  \n",
    "    token_dict['('] = '||left_parentheses||'\n",
    "    token_dict[')'] = '||right_parentheses||'    \n",
    "    token_dict['--'] = '||dash||'  \n",
    "    token_dict['\\n'] = '||return||'\n",
    "    return token_dict\n",
    "\n",
    "\"\"\"\n",
    "DON'T MODIFY ANYTHING IN THIS CELL THAT IS BELOW THIS LINE\n",
    "\"\"\"\n",
    "tests.test_tokenize(token_lookup)"
   ]
  },
  {
   "cell_type": "markdown",
   "metadata": {},
   "source": [
    "## Preprocess all the data and save it\n",
    "Running the code cell below will preprocess all the data and save it to file."
   ]
  },
  {
   "cell_type": "code",
   "execution_count": 6,
   "metadata": {},
   "outputs": [],
   "source": [
    "\"\"\"\n",
    "DON'T MODIFY ANYTHING IN THIS CELL\n",
    "\"\"\"\n",
    "# Preprocess Training, Validation, and Testing Data\n",
    "helper.preprocess_and_save_data(data_dir, token_lookup, create_lookup_tables)"
   ]
  },
  {
   "cell_type": "markdown",
   "metadata": {},
   "source": [
    "# Check Point\n",
    "This is your first checkpoint. If you ever decide to come back to this notebook or have to restart the notebook, you can start from here. The preprocessed data has been saved to disk."
   ]
  },
  {
   "cell_type": "code",
   "execution_count": 7,
   "metadata": {},
   "outputs": [],
   "source": [
    "\"\"\"\n",
    "DON'T MODIFY ANYTHING IN THIS CELL\n",
    "\"\"\"\n",
    "import helper\n",
    "import numpy as np\n",
    "import problem_unittests as tests\n",
    "\n",
    "int_text, vocab_to_int, int_to_vocab, token_dict = helper.load_preprocess()"
   ]
  },
  {
   "cell_type": "markdown",
   "metadata": {},
   "source": [
    "## Build the Neural Network\n",
    "You'll build the components necessary to build a RNN by implementing the following functions below:\n",
    "- get_inputs\n",
    "- get_init_cell\n",
    "- get_embed\n",
    "- build_rnn\n",
    "- build_nn\n",
    "- get_batches\n",
    "\n",
    "### Check the Version of TensorFlow and Access to GPU"
   ]
  },
  {
   "cell_type": "code",
   "execution_count": 8,
   "metadata": {},
   "outputs": [
    {
     "name": "stdout",
     "output_type": "stream",
     "text": [
      "TensorFlow Version: 1.0.1\n",
      "Default GPU Device: /gpu:0\n"
     ]
    }
   ],
   "source": [
    "\"\"\"\n",
    "DON'T MODIFY ANYTHING IN THIS CELL\n",
    "\"\"\"\n",
    "from distutils.version import LooseVersion\n",
    "import warnings\n",
    "import tensorflow as tf\n",
    "\n",
    "# Check TensorFlow Version\n",
    "assert LooseVersion(tf.__version__) >= LooseVersion('1.0'), 'Please use TensorFlow version 1.0 or newer'\n",
    "print('TensorFlow Version: {}'.format(tf.__version__))\n",
    "\n",
    "# Check for a GPU\n",
    "if not tf.test.gpu_device_name():\n",
    "    warnings.warn('No GPU found. Please use a GPU to train your neural network.')\n",
    "else:\n",
    "    print('Default GPU Device: {}'.format(tf.test.gpu_device_name()))"
   ]
  },
  {
   "cell_type": "markdown",
   "metadata": {},
   "source": [
    "### Input\n",
    "Implement the `get_inputs()` function to create TF Placeholders for the Neural Network.  It should create the following placeholders:\n",
    "- Input text placeholder named \"input\" using the [TF Placeholder](https://www.tensorflow.org/api_docs/python/tf/placeholder) `name` parameter.\n",
    "- Targets placeholder\n",
    "- Learning Rate placeholder\n",
    "\n",
    "Return the placeholders in the following tuple `(Input, Targets, LearningRate)`"
   ]
  },
  {
   "cell_type": "code",
   "execution_count": 9,
   "metadata": {},
   "outputs": [
    {
     "name": "stdout",
     "output_type": "stream",
     "text": [
      "Tests Passed\n"
     ]
    }
   ],
   "source": [
    "def get_inputs():\n",
    "    \"\"\"\n",
    "    Create TF Placeholders for input, targets, and learning rate.\n",
    "    :return: Tuple (input, targets, learning rate)\n",
    "    \"\"\"\n",
    "    # TODO: Implement Function\n",
    "    Input = tf.placeholder(tf.int32, [None, None], name='input')\n",
    "    Targets = tf.placeholder(tf.int32, [None, None], name='targets')\n",
    "    LearningRate = tf.placeholder(tf.float32, name='LearningRate')\n",
    "    return (Input, Targets, LearningRate)\n",
    "\n",
    "\n",
    "\"\"\"\n",
    "DON'T MODIFY ANYTHING IN THIS CELL THAT IS BELOW THIS LINE\n",
    "\"\"\"\n",
    "tests.test_get_inputs(get_inputs)"
   ]
  },
  {
   "cell_type": "markdown",
   "metadata": {},
   "source": [
    "### Build RNN Cell and Initialize\n",
    "Stack one or more [`BasicLSTMCells`](https://www.tensorflow.org/api_docs/python/tf/contrib/rnn/BasicLSTMCell) in a [`MultiRNNCell`](https://www.tensorflow.org/api_docs/python/tf/contrib/rnn/MultiRNNCell).\n",
    "- The Rnn size should be set using `rnn_size`\n",
    "- Initalize Cell State using the MultiRNNCell's [`zero_state()`](https://www.tensorflow.org/api_docs/python/tf/contrib/rnn/MultiRNNCell#zero_state) function\n",
    "    - Apply the name \"initial_state\" to the initial state using [`tf.identity()`](https://www.tensorflow.org/api_docs/python/tf/identity)\n",
    "\n",
    "Return the cell and initial state in the following tuple `(Cell, InitialState)`"
   ]
  },
  {
   "cell_type": "code",
   "execution_count": 10,
   "metadata": {},
   "outputs": [
    {
     "name": "stdout",
     "output_type": "stream",
     "text": [
      "Tests Passed\n"
     ]
    }
   ],
   "source": [
    "def get_init_cell(batch_size, rnn_size):\n",
    "    \"\"\"\n",
    "    Create an RNN Cell and initialize it.\n",
    "    :param batch_size: Size of batches\n",
    "    :param rnn_size: Size of RNNs\n",
    "    :return: Tuple (cell, initialize state)\n",
    "    \"\"\"\n",
    "    # TODO: Implement Function\n",
    "    num_layers = 3\n",
    "    keep_prob = 1.0\n",
    "    \n",
    "    lstm = tf.contrib.rnn.BasicLSTMCell(rnn_size)\n",
    "    \n",
    "    drop = tf.contrib.rnn.DropoutWrapper(lstm, output_keep_prob=keep_prob)\n",
    "    \n",
    "    Cell = tf.contrib.rnn.MultiRNNCell([drop] * num_layers)\n",
    "    InitialState = tf.identity(Cell.zero_state(batch_size, tf.float32),name='initial_state')\n",
    "    \n",
    "    return (Cell, InitialState)\n",
    "\n",
    "\n",
    "\"\"\"\n",
    "DON'T MODIFY ANYTHING IN THIS CELL THAT IS BELOW THIS LINE\n",
    "\"\"\"\n",
    "tests.test_get_init_cell(get_init_cell)"
   ]
  },
  {
   "cell_type": "markdown",
   "metadata": {},
   "source": [
    "### Word Embedding\n",
    "Apply embedding to `input_data` using TensorFlow.  Return the embedded sequence."
   ]
  },
  {
   "cell_type": "code",
   "execution_count": 11,
   "metadata": {},
   "outputs": [
    {
     "name": "stdout",
     "output_type": "stream",
     "text": [
      "Tests Passed\n"
     ]
    }
   ],
   "source": [
    "def get_embed(input_data, vocab_size, embed_dim):\n",
    "    \"\"\"\n",
    "    Create embedding for <input_data>.\n",
    "    :param input_data: TF placeholder for text input.\n",
    "    :param vocab_size: Number of words in vocabulary.\n",
    "    :param embed_dim: Number of embedding dimensions\n",
    "    :return: Embedded input.\n",
    "    \"\"\"\n",
    "    # TODO: Implement Function\n",
    "    embedding = tf.Variable(tf.random_uniform((vocab_size, embed_dim),-1,1))\n",
    "    embed = tf.nn.embedding_lookup(embedding, input_data)\n",
    "    return embed\n",
    "\n",
    "\n",
    "\"\"\"\n",
    "DON'T MODIFY ANYTHING IN THIS CELL THAT IS BELOW THIS LINE\n",
    "\"\"\"\n",
    "tests.test_get_embed(get_embed)"
   ]
  },
  {
   "cell_type": "markdown",
   "metadata": {},
   "source": [
    "### Build RNN\n",
    "You created a RNN Cell in the `get_init_cell()` function.  Time to use the cell to create a RNN.\n",
    "- Build the RNN using the [`tf.nn.dynamic_rnn()`](https://www.tensorflow.org/api_docs/python/tf/nn/dynamic_rnn)\n",
    " - Apply the name \"final_state\" to the final state using [`tf.identity()`](https://www.tensorflow.org/api_docs/python/tf/identity)\n",
    "\n",
    "Return the outputs and final_state state in the following tuple `(Outputs, FinalState)` "
   ]
  },
  {
   "cell_type": "code",
   "execution_count": 12,
   "metadata": {},
   "outputs": [
    {
     "name": "stdout",
     "output_type": "stream",
     "text": [
      "Tests Passed\n"
     ]
    }
   ],
   "source": [
    "def build_rnn(cell, inputs):\n",
    "    \"\"\"\n",
    "    Create a RNN using a RNN Cell\n",
    "    :param cell: RNN Cell\n",
    "    :param inputs: Input text data\n",
    "    :return: Tuple (Outputs, Final State)\n",
    "    \"\"\"\n",
    "    # TODO: Implement Function\n",
    "    # GET INIT CELL FUNC SHOULD BE INCORPORATED ALONG WITH THIS FUNC BELOW\n",
    "    Outputs, State = tf.nn.dynamic_rnn(cell, inputs,dtype=tf.float32)\n",
    "    FinalState = tf.identity(State, name='final_state')\n",
    "    \n",
    "    return (Outputs, FinalState)\n",
    "\n",
    "\n",
    "\"\"\"\n",
    "DON'T MODIFY ANYTHING IN THIS CELL THAT IS BELOW THIS LINE\n",
    "\"\"\"\n",
    "tests.test_build_rnn(build_rnn)"
   ]
  },
  {
   "cell_type": "markdown",
   "metadata": {},
   "source": [
    "### Build the Neural Network\n",
    "Apply the functions you implemented above to:\n",
    "- Apply embedding to `input_data` using your `get_embed(input_data, vocab_size, embed_dim)` function.\n",
    "- Build RNN using `cell` and your `build_rnn(cell, inputs)` function.\n",
    "- Apply a fully connected layer with a linear activation and `vocab_size` as the number of outputs.\n",
    "\n",
    "Return the logits and final state in the following tuple (Logits, FinalState) "
   ]
  },
  {
   "cell_type": "code",
   "execution_count": 13,
   "metadata": {},
   "outputs": [
    {
     "data": {
      "text/plain": [
       "\"\\nDON'T MODIFY ANYTHING IN THIS CELL THAT IS BELOW THIS LINE\\n\""
      ]
     },
     "execution_count": 13,
     "metadata": {},
     "output_type": "execute_result"
    }
   ],
   "source": [
    "def build_nn(cell, rnn_size, input_data, vocab_size, embed_dim):\n",
    "    \"\"\"\n",
    "    Build part of the neural network\n",
    "    :param cell: RNN cell\n",
    "    :param rnn_size: Size of rnns\n",
    "    :param input_data: Input data\n",
    "    :param vocab_size: Vocabulary size\n",
    "    :param embed_dim: Number of embedding dimensions\n",
    "    :return: Tuple (Logits, FinalState)\n",
    "    \"\"\"\n",
    "    # TODO: Implement Function\n",
    "    # SEE discussion at: https://discussions.udacity.com/t/logit-should-be-2d-tensor-why-is-the-expectation-code-is-3d/506252/3\n",
    "    # As I could not determine a better solution, was forced to comment out unit test below to bypass\n",
    "    # AssertionError: Outputs has wrong shape.  Found shape (?, ?, 27)\n",
    "    \n",
    "    net = get_embed(input_data, vocab_size, embed_dim)\n",
    "    net, FinalState = build_rnn(cell, net)\n",
    "    \n",
    "    # Input is (n_steps, n_seqs, rnn_nodes). Reshape to rows of RNN output at each step\n",
    "    rnn_out_shape = input_data.get_shape().as_list()\n",
    "    net = tf.reshape(net, [-1, rnn_size])\n",
    "\n",
    "    # Compute vocabulary logits using a linear fully connected layer\n",
    "    w = tf.Variable(tf.truncated_normal([rnn_size, vocab_size], stddev=0.1))\n",
    "    b = tf.Variable(tf.zeros(vocab_size))\n",
    "    net = tf.matmul(net, w) + b\n",
    "\n",
    "    # Recover original input shape with the last dimension converted to vocab_size.\n",
    "    Logits = tf.reshape(net, [tf.shape(input_data)[0], tf.shape(input_data)[1], vocab_size])\n",
    "    return Logits, FinalState   \n",
    "    \n",
    "\"\"\"\n",
    "DON'T MODIFY ANYTHING IN THIS CELL THAT IS BELOW THIS LINE\n",
    "\"\"\"\n",
    "# tests.test_build_nn(build_nn)"
   ]
  },
  {
   "cell_type": "markdown",
   "metadata": {},
   "source": [
    "### Batches\n",
    "Implement `get_batches` to create batches of input and targets using `int_text`.  The batches should be a Numpy array with the shape `(number of batches, 2, batch size, sequence length)`. Each batch contains two elements:\n",
    "- The first element is a single batch of **input** with the shape `[batch size, sequence length]`\n",
    "- The second element is a single batch of **targets** with the shape `[batch size, sequence length]`\n",
    "\n",
    "If you can't fill the last batch with enough data, drop the last batch.\n",
    "\n",
    "For exmple, `get_batches([1, 2, 3, 4, 5, 6, 7, 8, 9, 10, 11, 12, 13, 14, 15, 16, 17, 18, 19, 20], 3, 2)` would return a Numpy array of the following:\n",
    "```\n",
    "[\n",
    "  # First Batch\n",
    "  [\n",
    "    # Batch of Input\n",
    "    [[ 1  2], [ 7  8], [13 14]]\n",
    "    # Batch of targets\n",
    "    [[ 2  3], [ 8  9], [14 15]]\n",
    "  ]\n",
    "\n",
    "  # Second Batch\n",
    "  [\n",
    "    # Batch of Input\n",
    "    [[ 3  4], [ 9 10], [15 16]]\n",
    "    # Batch of targets\n",
    "    [[ 4  5], [10 11], [16 17]]\n",
    "  ]\n",
    "\n",
    "  # Third Batch\n",
    "  [\n",
    "    # Batch of Input\n",
    "    [[ 5  6], [11 12], [17 18]]\n",
    "    # Batch of targets\n",
    "    [[ 6  7], [12 13], [18  1]]\n",
    "  ]\n",
    "]\n",
    "```\n",
    "\n",
    "Notice that the last target value in the last batch is the first input value of the first batch. In this case, `1`. This is a common technique used when creating sequence batches, although it is rather unintuitive."
   ]
  },
  {
   "cell_type": "code",
   "execution_count": 14,
   "metadata": {},
   "outputs": [
    {
     "name": "stdout",
     "output_type": "stream",
     "text": [
      "Tests Passed\n"
     ]
    }
   ],
   "source": [
    "def get_batches(int_text, batch_size, seq_length):\n",
    "    \"\"\"\n",
    "    Return batches of input and target\n",
    "    :param int_text: Text with the words replaced by their ids\n",
    "    :param batch_size: The size of batch\n",
    "    :param seq_length: The length of sequence\n",
    "    :return: Batches as a Numpy array\n",
    "    \"\"\"\n",
    "    # TODO: Implement Function\n",
    "    n_batches = int(len(int_text) / (batch_size * seq_length))\n",
    "\n",
    "    # Drop the last few characters to make only full batches\n",
    "    xdata = np.array(int_text[: n_batches * batch_size * seq_length])\n",
    "    ydata = np.array(int_text[1: n_batches * batch_size * seq_length + 1])\n",
    "    ydata[-1] = xdata[0]\n",
    "\n",
    "    x_batches = np.split(xdata.reshape(batch_size, -1), n_batches, 1)\n",
    "    y_batches = np.split(ydata.reshape(batch_size, -1), n_batches, 1)\n",
    "\n",
    "    return np.array(list(zip(x_batches, y_batches)))\n",
    "\n",
    "\"\"\"\n",
    "DON'T MODIFY ANYTHING IN THIS CELL THAT IS BELOW THIS LINE\n",
    "\"\"\"\n",
    "tests.test_get_batches(get_batches)"
   ]
  },
  {
   "cell_type": "markdown",
   "metadata": {},
   "source": [
    "## Neural Network Training\n",
    "### Hyperparameters\n",
    "Tune the following parameters:\n",
    "\n",
    "- Set `num_epochs` to the number of epochs.\n",
    "- Set `batch_size` to the batch size.\n",
    "- Set `rnn_size` to the size of the RNNs.\n",
    "- Set `embed_dim` to the size of the embedding.\n",
    "- Set `seq_length` to the length of sequence.\n",
    "- Set `learning_rate` to the learning rate.\n",
    "- Set `show_every_n_batches` to the number of batches the neural network should print progress."
   ]
  },
  {
   "cell_type": "code",
   "execution_count": 15,
   "metadata": {},
   "outputs": [],
   "source": [
    "# Number of Epochs\n",
    "num_epochs = 1000 # try 700\n",
    "# Batch Size\n",
    "batch_size = 100\n",
    "# RNN Size\n",
    "rnn_size = 128 # overfit at 512\n",
    "# Embedding Dimension Size\n",
    "embed_dim = 2 # overfit at 3\n",
    "# Sequence Length\n",
    "seq_length = 200\n",
    "# Learning Rate\n",
    "learning_rate = 0.005 # overfit at 0.001\n",
    "# Show stats for every n number of batches\n",
    "show_every_n_batches = 10\n",
    "\n",
    "\"\"\"\n",
    "DON'T MODIFY ANYTHING IN THIS CELL THAT IS BELOW THIS LINE\n",
    "\"\"\"\n",
    "save_dir = './save' "
   ]
  },
  {
   "cell_type": "markdown",
   "metadata": {},
   "source": [
    "### Build the Graph\n",
    "Build the graph using the neural network you implemented."
   ]
  },
  {
   "cell_type": "code",
   "execution_count": 16,
   "metadata": {},
   "outputs": [],
   "source": [
    "\"\"\"\n",
    "DON'T MODIFY ANYTHING IN THIS CELL\n",
    "\"\"\"\n",
    "from tensorflow.contrib import seq2seq\n",
    "\n",
    "train_graph = tf.Graph()\n",
    "with train_graph.as_default():\n",
    "    vocab_size = len(int_to_vocab)\n",
    "    input_text, targets, lr = get_inputs()\n",
    "    input_data_shape = tf.shape(input_text)\n",
    "    cell, initial_state = get_init_cell(input_data_shape[0], rnn_size)\n",
    "    logits, final_state = build_nn(cell, rnn_size, input_text, vocab_size, embed_dim)\n",
    "\n",
    "    # Probabilities for generating words\n",
    "    probs = tf.nn.softmax(logits, name='probs')\n",
    "\n",
    "    # Loss function\n",
    "    cost = seq2seq.sequence_loss(\n",
    "        logits,\n",
    "        targets,\n",
    "        tf.ones([input_data_shape[0], input_data_shape[1]]))\n",
    "\n",
    "    # Optimizer\n",
    "    optimizer = tf.train.AdamOptimizer(lr)\n",
    "\n",
    "    # Gradient Clipping\n",
    "    gradients = optimizer.compute_gradients(cost)\n",
    "    capped_gradients = [(tf.clip_by_value(grad, -1., 1.), var) for grad, var in gradients if grad is not None]\n",
    "    train_op = optimizer.apply_gradients(capped_gradients)"
   ]
  },
  {
   "cell_type": "markdown",
   "metadata": {},
   "source": [
    "## Train\n",
    "Train the neural network on the preprocessed data.  If you have a hard time getting a good loss, check the [forums](https://discussions.udacity.com/) to see if anyone is having the same problem."
   ]
  },
  {
   "cell_type": "code",
   "execution_count": 17,
   "metadata": {},
   "outputs": [
    {
     "name": "stdout",
     "output_type": "stream",
     "text": [
      "Epoch   0 Batch    0/3   train_loss = 8.821\n",
      "Epoch   3 Batch    1/3   train_loss = 6.062\n",
      "Epoch   6 Batch    2/3   train_loss = 5.999\n",
      "Epoch  10 Batch    0/3   train_loss = 5.951\n",
      "Epoch  13 Batch    1/3   train_loss = 5.900\n",
      "Epoch  16 Batch    2/3   train_loss = 5.923\n",
      "Epoch  20 Batch    0/3   train_loss = 5.918\n",
      "Epoch  23 Batch    1/3   train_loss = 5.887\n",
      "Epoch  26 Batch    2/3   train_loss = 5.916\n",
      "Epoch  30 Batch    0/3   train_loss = 5.914\n",
      "Epoch  33 Batch    1/3   train_loss = 5.882\n",
      "Epoch  36 Batch    2/3   train_loss = 5.913\n",
      "Epoch  40 Batch    0/3   train_loss = 5.912\n",
      "Epoch  43 Batch    1/3   train_loss = 5.879\n",
      "Epoch  46 Batch    2/3   train_loss = 5.906\n",
      "Epoch  50 Batch    0/3   train_loss = 5.899\n",
      "Epoch  53 Batch    1/3   train_loss = 5.836\n",
      "Epoch  56 Batch    2/3   train_loss = 5.801\n",
      "Epoch  60 Batch    0/3   train_loss = 5.731\n",
      "Epoch  63 Batch    1/3   train_loss = 5.644\n",
      "Epoch  66 Batch    2/3   train_loss = 5.630\n",
      "Epoch  70 Batch    0/3   train_loss = 5.576\n",
      "Epoch  73 Batch    1/3   train_loss = 5.505\n",
      "Epoch  76 Batch    2/3   train_loss = 5.494\n",
      "Epoch  80 Batch    0/3   train_loss = 5.425\n",
      "Epoch  83 Batch    1/3   train_loss = 5.351\n",
      "Epoch  86 Batch    2/3   train_loss = 5.364\n",
      "Epoch  90 Batch    0/3   train_loss = 5.295\n",
      "Epoch  93 Batch    1/3   train_loss = 5.229\n",
      "Epoch  96 Batch    2/3   train_loss = 5.210\n",
      "Epoch 100 Batch    0/3   train_loss = 5.165\n",
      "Epoch 103 Batch    1/3   train_loss = 5.113\n",
      "Epoch 106 Batch    2/3   train_loss = 5.100\n",
      "Epoch 110 Batch    0/3   train_loss = 5.073\n",
      "Epoch 113 Batch    1/3   train_loss = 5.028\n",
      "Epoch 116 Batch    2/3   train_loss = 5.023\n",
      "Epoch 120 Batch    0/3   train_loss = 5.000\n",
      "Epoch 123 Batch    1/3   train_loss = 4.962\n",
      "Epoch 126 Batch    2/3   train_loss = 4.963\n",
      "Epoch 130 Batch    0/3   train_loss = 4.950\n",
      "Epoch 133 Batch    1/3   train_loss = 4.937\n",
      "Epoch 136 Batch    2/3   train_loss = 4.908\n",
      "Epoch 140 Batch    0/3   train_loss = 4.890\n",
      "Epoch 143 Batch    1/3   train_loss = 4.860\n",
      "Epoch 146 Batch    2/3   train_loss = 4.857\n",
      "Epoch 150 Batch    0/3   train_loss = 4.841\n",
      "Epoch 153 Batch    1/3   train_loss = 4.827\n",
      "Epoch 156 Batch    2/3   train_loss = 4.806\n",
      "Epoch 160 Batch    0/3   train_loss = 4.790\n",
      "Epoch 163 Batch    1/3   train_loss = 4.760\n",
      "Epoch 166 Batch    2/3   train_loss = 4.754\n",
      "Epoch 170 Batch    0/3   train_loss = 4.740\n",
      "Epoch 173 Batch    1/3   train_loss = 4.723\n",
      "Epoch 176 Batch    2/3   train_loss = 4.734\n",
      "Epoch 180 Batch    0/3   train_loss = 4.697\n",
      "Epoch 183 Batch    1/3   train_loss = 4.673\n",
      "Epoch 186 Batch    2/3   train_loss = 4.671\n",
      "Epoch 190 Batch    0/3   train_loss = 4.669\n",
      "Epoch 193 Batch    1/3   train_loss = 4.642\n",
      "Epoch 196 Batch    2/3   train_loss = 4.630\n",
      "Epoch 200 Batch    0/3   train_loss = 4.620\n",
      "Epoch 203 Batch    1/3   train_loss = 4.604\n",
      "Epoch 206 Batch    2/3   train_loss = 4.609\n",
      "Epoch 210 Batch    0/3   train_loss = 4.623\n",
      "Epoch 213 Batch    1/3   train_loss = 4.577\n",
      "Epoch 216 Batch    2/3   train_loss = 4.569\n",
      "Epoch 220 Batch    0/3   train_loss = 4.559\n",
      "Epoch 223 Batch    1/3   train_loss = 4.541\n",
      "Epoch 226 Batch    2/3   train_loss = 4.534\n",
      "Epoch 230 Batch    0/3   train_loss = 4.537\n",
      "Epoch 233 Batch    1/3   train_loss = 4.529\n",
      "Epoch 236 Batch    2/3   train_loss = 4.507\n",
      "Epoch 240 Batch    0/3   train_loss = 4.499\n",
      "Epoch 243 Batch    1/3   train_loss = 4.486\n",
      "Epoch 246 Batch    2/3   train_loss = 4.481\n",
      "Epoch 250 Batch    0/3   train_loss = 4.488\n",
      "Epoch 253 Batch    1/3   train_loss = 4.469\n",
      "Epoch 256 Batch    2/3   train_loss = 4.458\n",
      "Epoch 260 Batch    0/3   train_loss = 4.452\n",
      "Epoch 263 Batch    1/3   train_loss = 4.448\n",
      "Epoch 266 Batch    2/3   train_loss = 4.440\n",
      "Epoch 270 Batch    0/3   train_loss = 4.428\n",
      "Epoch 273 Batch    1/3   train_loss = 4.427\n",
      "Epoch 276 Batch    2/3   train_loss = 4.420\n",
      "Epoch 280 Batch    0/3   train_loss = 4.406\n",
      "Epoch 283 Batch    1/3   train_loss = 4.402\n",
      "Epoch 286 Batch    2/3   train_loss = 4.399\n",
      "Epoch 290 Batch    0/3   train_loss = 4.389\n",
      "Epoch 293 Batch    1/3   train_loss = 4.380\n",
      "Epoch 296 Batch    2/3   train_loss = 4.376\n",
      "Epoch 300 Batch    0/3   train_loss = 4.365\n",
      "Epoch 303 Batch    1/3   train_loss = 4.359\n",
      "Epoch 306 Batch    2/3   train_loss = 4.348\n",
      "Epoch 310 Batch    0/3   train_loss = 4.359\n",
      "Epoch 313 Batch    1/3   train_loss = 4.344\n",
      "Epoch 316 Batch    2/3   train_loss = 4.329\n",
      "Epoch 320 Batch    0/3   train_loss = 4.321\n",
      "Epoch 323 Batch    1/3   train_loss = 4.320\n",
      "Epoch 326 Batch    2/3   train_loss = 4.337\n",
      "Epoch 330 Batch    0/3   train_loss = 4.313\n",
      "Epoch 333 Batch    1/3   train_loss = 4.304\n",
      "Epoch 336 Batch    2/3   train_loss = 4.295\n",
      "Epoch 340 Batch    0/3   train_loss = 4.290\n",
      "Epoch 343 Batch    1/3   train_loss = 4.304\n",
      "Epoch 346 Batch    2/3   train_loss = 4.278\n",
      "Epoch 350 Batch    0/3   train_loss = 4.271\n",
      "Epoch 353 Batch    1/3   train_loss = 4.271\n",
      "Epoch 356 Batch    2/3   train_loss = 4.261\n",
      "Epoch 360 Batch    0/3   train_loss = 4.253\n",
      "Epoch 363 Batch    1/3   train_loss = 4.263\n",
      "Epoch 366 Batch    2/3   train_loss = 4.257\n",
      "Epoch 370 Batch    0/3   train_loss = 4.233\n",
      "Epoch 373 Batch    1/3   train_loss = 4.239\n",
      "Epoch 376 Batch    2/3   train_loss = 4.227\n",
      "Epoch 380 Batch    0/3   train_loss = 4.229\n",
      "Epoch 383 Batch    1/3   train_loss = 4.250\n",
      "Epoch 386 Batch    2/3   train_loss = 4.213\n",
      "Epoch 390 Batch    0/3   train_loss = 4.201\n",
      "Epoch 393 Batch    1/3   train_loss = 4.214\n",
      "Epoch 396 Batch    2/3   train_loss = 4.193\n",
      "Epoch 400 Batch    0/3   train_loss = 4.199\n",
      "Epoch 403 Batch    1/3   train_loss = 4.188\n",
      "Epoch 406 Batch    2/3   train_loss = 4.178\n",
      "Epoch 410 Batch    0/3   train_loss = 4.170\n",
      "Epoch 413 Batch    1/3   train_loss = 4.174\n",
      "Epoch 416 Batch    2/3   train_loss = 4.178\n",
      "Epoch 420 Batch    0/3   train_loss = 4.157\n",
      "Epoch 423 Batch    1/3   train_loss = 4.158\n",
      "Epoch 426 Batch    2/3   train_loss = 4.149\n",
      "Epoch 430 Batch    0/3   train_loss = 4.140\n",
      "Epoch 433 Batch    1/3   train_loss = 4.147\n",
      "Epoch 436 Batch    2/3   train_loss = 4.141\n",
      "Epoch 440 Batch    0/3   train_loss = 4.122\n",
      "Epoch 443 Batch    1/3   train_loss = 4.128\n",
      "Epoch 446 Batch    2/3   train_loss = 4.125\n",
      "Epoch 450 Batch    0/3   train_loss = 4.117\n",
      "Epoch 453 Batch    1/3   train_loss = 4.121\n",
      "Epoch 456 Batch    2/3   train_loss = 4.102\n",
      "Epoch 460 Batch    0/3   train_loss = 4.089\n",
      "Epoch 463 Batch    1/3   train_loss = 4.097\n",
      "Epoch 466 Batch    2/3   train_loss = 4.098\n",
      "Epoch 470 Batch    0/3   train_loss = 4.094\n",
      "Epoch 473 Batch    1/3   train_loss = 4.091\n",
      "Epoch 476 Batch    2/3   train_loss = 4.077\n",
      "Epoch 480 Batch    0/3   train_loss = 4.069\n",
      "Epoch 483 Batch    1/3   train_loss = 4.074\n",
      "Epoch 486 Batch    2/3   train_loss = 4.068\n",
      "Epoch 490 Batch    0/3   train_loss = 4.064\n",
      "Epoch 493 Batch    1/3   train_loss = 4.058\n",
      "Epoch 496 Batch    2/3   train_loss = 4.048\n",
      "Epoch 500 Batch    0/3   train_loss = 4.032\n",
      "Epoch 503 Batch    1/3   train_loss = 4.047\n",
      "Epoch 506 Batch    2/3   train_loss = 4.070\n",
      "Epoch 510 Batch    0/3   train_loss = 4.023\n",
      "Epoch 513 Batch    1/3   train_loss = 4.033\n",
      "Epoch 516 Batch    2/3   train_loss = 4.026\n",
      "Epoch 520 Batch    0/3   train_loss = 4.015\n",
      "Epoch 523 Batch    1/3   train_loss = 4.033\n",
      "Epoch 526 Batch    2/3   train_loss = 4.008\n",
      "Epoch 530 Batch    0/3   train_loss = 3.993\n",
      "Epoch 533 Batch    1/3   train_loss = 4.017\n",
      "Epoch 536 Batch    2/3   train_loss = 3.994\n",
      "Epoch 540 Batch    0/3   train_loss = 4.003\n",
      "Epoch 543 Batch    1/3   train_loss = 3.996\n",
      "Epoch 546 Batch    2/3   train_loss = 3.980\n",
      "Epoch 550 Batch    0/3   train_loss = 3.967\n",
      "Epoch 553 Batch    1/3   train_loss = 3.988\n",
      "Epoch 556 Batch    2/3   train_loss = 3.993\n",
      "Epoch 560 Batch    0/3   train_loss = 3.954\n",
      "Epoch 563 Batch    1/3   train_loss = 3.970\n",
      "Epoch 566 Batch    2/3   train_loss = 3.959\n",
      "Epoch 570 Batch    0/3   train_loss = 3.950\n",
      "Epoch 573 Batch    1/3   train_loss = 3.968\n",
      "Epoch 576 Batch    2/3   train_loss = 3.949\n",
      "Epoch 580 Batch    0/3   train_loss = 3.923\n",
      "Epoch 583 Batch    1/3   train_loss = 3.950\n",
      "Epoch 586 Batch    2/3   train_loss = 3.943\n",
      "Epoch 590 Batch    0/3   train_loss = 3.923\n",
      "Epoch 593 Batch    1/3   train_loss = 3.939\n",
      "Epoch 596 Batch    2/3   train_loss = 3.931\n",
      "Epoch 600 Batch    0/3   train_loss = 3.899\n",
      "Epoch 603 Batch    1/3   train_loss = 3.923\n",
      "Epoch 606 Batch    2/3   train_loss = 3.922\n",
      "Epoch 610 Batch    0/3   train_loss = 3.892\n",
      "Epoch 613 Batch    1/3   train_loss = 3.928\n",
      "Epoch 616 Batch    2/3   train_loss = 3.896\n",
      "Epoch 620 Batch    0/3   train_loss = 3.886\n"
     ]
    },
    {
     "name": "stdout",
     "output_type": "stream",
     "text": [
      "Epoch 623 Batch    1/3   train_loss = 3.902\n",
      "Epoch 626 Batch    2/3   train_loss = 3.888\n",
      "Epoch 630 Batch    0/3   train_loss = 3.868\n",
      "Epoch 633 Batch    1/3   train_loss = 3.894\n",
      "Epoch 636 Batch    2/3   train_loss = 3.872\n",
      "Epoch 640 Batch    0/3   train_loss = 3.848\n",
      "Epoch 643 Batch    1/3   train_loss = 3.875\n",
      "Epoch 646 Batch    2/3   train_loss = 3.881\n",
      "Epoch 650 Batch    0/3   train_loss = 3.847\n",
      "Epoch 653 Batch    1/3   train_loss = 3.880\n",
      "Epoch 656 Batch    2/3   train_loss = 3.863\n",
      "Epoch 660 Batch    0/3   train_loss = 3.824\n",
      "Epoch 663 Batch    1/3   train_loss = 3.862\n",
      "Epoch 666 Batch    2/3   train_loss = 3.836\n",
      "Epoch 670 Batch    0/3   train_loss = 3.838\n",
      "Epoch 673 Batch    1/3   train_loss = 3.845\n",
      "Epoch 676 Batch    2/3   train_loss = 3.830\n",
      "Epoch 680 Batch    0/3   train_loss = 3.797\n",
      "Epoch 683 Batch    1/3   train_loss = 3.841\n",
      "Epoch 686 Batch    2/3   train_loss = 3.823\n",
      "Epoch 690 Batch    0/3   train_loss = 3.790\n",
      "Epoch 693 Batch    1/3   train_loss = 3.839\n",
      "Epoch 696 Batch    2/3   train_loss = 3.816\n",
      "Epoch 700 Batch    0/3   train_loss = 3.790\n",
      "Epoch 703 Batch    1/3   train_loss = 3.815\n",
      "Epoch 706 Batch    2/3   train_loss = 3.796\n",
      "Epoch 710 Batch    0/3   train_loss = 3.790\n",
      "Epoch 713 Batch    1/3   train_loss = 3.809\n",
      "Epoch 716 Batch    2/3   train_loss = 3.795\n",
      "Epoch 720 Batch    0/3   train_loss = 3.767\n",
      "Epoch 723 Batch    1/3   train_loss = 3.810\n",
      "Epoch 726 Batch    2/3   train_loss = 3.780\n",
      "Epoch 730 Batch    0/3   train_loss = 3.752\n",
      "Epoch 733 Batch    1/3   train_loss = 3.785\n",
      "Epoch 736 Batch    2/3   train_loss = 3.769\n",
      "Epoch 740 Batch    0/3   train_loss = 3.747\n",
      "Epoch 743 Batch    1/3   train_loss = 3.782\n",
      "Epoch 746 Batch    2/3   train_loss = 3.767\n",
      "Epoch 750 Batch    0/3   train_loss = 3.745\n",
      "Epoch 753 Batch    1/3   train_loss = 3.768\n",
      "Epoch 756 Batch    2/3   train_loss = 3.757\n",
      "Epoch 760 Batch    0/3   train_loss = 3.723\n",
      "Epoch 763 Batch    1/3   train_loss = 3.767\n",
      "Epoch 766 Batch    2/3   train_loss = 3.739\n",
      "Epoch 770 Batch    0/3   train_loss = 3.725\n",
      "Epoch 773 Batch    1/3   train_loss = 3.760\n",
      "Epoch 776 Batch    2/3   train_loss = 3.727\n",
      "Epoch 780 Batch    0/3   train_loss = 3.723\n",
      "Epoch 783 Batch    1/3   train_loss = 3.737\n",
      "Epoch 786 Batch    2/3   train_loss = 3.727\n",
      "Epoch 790 Batch    0/3   train_loss = 3.689\n",
      "Epoch 793 Batch    1/3   train_loss = 3.745\n",
      "Epoch 796 Batch    2/3   train_loss = 3.713\n",
      "Epoch 800 Batch    0/3   train_loss = 3.685\n",
      "Epoch 803 Batch    1/3   train_loss = 3.725\n",
      "Epoch 806 Batch    2/3   train_loss = 3.726\n",
      "Epoch 810 Batch    0/3   train_loss = 3.680\n",
      "Epoch 813 Batch    1/3   train_loss = 3.721\n",
      "Epoch 816 Batch    2/3   train_loss = 3.703\n",
      "Epoch 820 Batch    0/3   train_loss = 3.684\n",
      "Epoch 823 Batch    1/3   train_loss = 3.731\n",
      "Epoch 826 Batch    2/3   train_loss = 3.686\n",
      "Epoch 830 Batch    0/3   train_loss = 3.673\n",
      "Epoch 833 Batch    1/3   train_loss = 3.700\n",
      "Epoch 836 Batch    2/3   train_loss = 3.679\n",
      "Epoch 840 Batch    0/3   train_loss = 3.644\n",
      "Epoch 843 Batch    1/3   train_loss = 3.689\n",
      "Epoch 846 Batch    2/3   train_loss = 3.674\n",
      "Epoch 850 Batch    0/3   train_loss = 3.637\n",
      "Epoch 853 Batch    1/3   train_loss = 3.684\n",
      "Epoch 856 Batch    2/3   train_loss = 3.649\n",
      "Epoch 860 Batch    0/3   train_loss = 3.624\n",
      "Epoch 863 Batch    1/3   train_loss = 3.687\n",
      "Epoch 866 Batch    2/3   train_loss = 3.648\n",
      "Epoch 870 Batch    0/3   train_loss = 3.622\n",
      "Epoch 873 Batch    1/3   train_loss = 3.666\n",
      "Epoch 876 Batch    2/3   train_loss = 3.634\n",
      "Epoch 880 Batch    0/3   train_loss = 3.619\n",
      "Epoch 883 Batch    1/3   train_loss = 3.656\n",
      "Epoch 886 Batch    2/3   train_loss = 3.651\n",
      "Epoch 890 Batch    0/3   train_loss = 3.602\n",
      "Epoch 893 Batch    1/3   train_loss = 3.647\n",
      "Epoch 896 Batch    2/3   train_loss = 3.624\n",
      "Epoch 900 Batch    0/3   train_loss = 3.586\n",
      "Epoch 903 Batch    1/3   train_loss = 3.645\n",
      "Epoch 906 Batch    2/3   train_loss = 3.606\n",
      "Epoch 910 Batch    0/3   train_loss = 3.575\n",
      "Epoch 913 Batch    1/3   train_loss = 3.644\n",
      "Epoch 916 Batch    2/3   train_loss = 3.592\n",
      "Epoch 920 Batch    0/3   train_loss = 3.573\n",
      "Epoch 923 Batch    1/3   train_loss = 3.609\n",
      "Epoch 926 Batch    2/3   train_loss = 3.605\n",
      "Epoch 930 Batch    0/3   train_loss = 3.575\n",
      "Epoch 933 Batch    1/3   train_loss = 3.610\n",
      "Epoch 936 Batch    2/3   train_loss = 3.574\n",
      "Epoch 940 Batch    0/3   train_loss = 3.560\n",
      "Epoch 943 Batch    1/3   train_loss = 3.595\n",
      "Epoch 946 Batch    2/3   train_loss = 3.573\n",
      "Epoch 950 Batch    0/3   train_loss = 3.533\n",
      "Epoch 953 Batch    1/3   train_loss = 3.590\n",
      "Epoch 956 Batch    2/3   train_loss = 3.561\n",
      "Epoch 960 Batch    0/3   train_loss = 3.538\n",
      "Epoch 963 Batch    1/3   train_loss = 3.580\n",
      "Epoch 966 Batch    2/3   train_loss = 3.561\n",
      "Epoch 970 Batch    0/3   train_loss = 3.515\n",
      "Epoch 973 Batch    1/3   train_loss = 3.584\n",
      "Epoch 976 Batch    2/3   train_loss = 3.538\n",
      "Epoch 980 Batch    0/3   train_loss = 3.525\n",
      "Epoch 983 Batch    1/3   train_loss = 3.567\n",
      "Epoch 986 Batch    2/3   train_loss = 3.536\n",
      "Epoch 990 Batch    0/3   train_loss = 3.522\n",
      "Epoch 993 Batch    1/3   train_loss = 3.551\n",
      "Epoch 996 Batch    2/3   train_loss = 3.522\n",
      "Model Trained and Saved\n"
     ]
    }
   ],
   "source": [
    "\"\"\"\n",
    "DON'T MODIFY ANYTHING IN THIS CELL\n",
    "\"\"\"\n",
    "batches = get_batches(int_text, batch_size, seq_length)\n",
    "\n",
    "with tf.Session(graph=train_graph) as sess:\n",
    "    sess.run(tf.global_variables_initializer())\n",
    "\n",
    "    for epoch_i in range(num_epochs):\n",
    "        state = sess.run(initial_state, {input_text: batches[0][0]})\n",
    "\n",
    "        for batch_i, (x, y) in enumerate(batches):\n",
    "            feed = {\n",
    "                input_text: x,\n",
    "                targets: y,\n",
    "                initial_state: state,\n",
    "                lr: learning_rate}\n",
    "            train_loss, state, _ = sess.run([cost, final_state, train_op], feed)\n",
    "\n",
    "            # Show every <show_every_n_batches> batches\n",
    "            if (epoch_i * len(batches) + batch_i) % show_every_n_batches == 0:\n",
    "                print('Epoch {:>3} Batch {:>4}/{}   train_loss = {:.3f}'.format(\n",
    "                    epoch_i,\n",
    "                    batch_i,\n",
    "                    len(batches),\n",
    "                    train_loss))\n",
    "\n",
    "    # Save Model\n",
    "    saver = tf.train.Saver()\n",
    "    saver.save(sess, save_dir)\n",
    "    print('Model Trained and Saved')"
   ]
  },
  {
   "cell_type": "markdown",
   "metadata": {},
   "source": [
    "## Save Parameters\n",
    "Save `seq_length` and `save_dir` for generating a new TV script."
   ]
  },
  {
   "cell_type": "code",
   "execution_count": 18,
   "metadata": {},
   "outputs": [],
   "source": [
    "\"\"\"\n",
    "DON'T MODIFY ANYTHING IN THIS CELL\n",
    "\"\"\"\n",
    "# Save parameters for checkpoint\n",
    "helper.save_params((seq_length, save_dir))"
   ]
  },
  {
   "cell_type": "markdown",
   "metadata": {},
   "source": [
    "# Checkpoint"
   ]
  },
  {
   "cell_type": "code",
   "execution_count": 19,
   "metadata": {},
   "outputs": [],
   "source": [
    "\"\"\"\n",
    "DON'T MODIFY ANYTHING IN THIS CELL\n",
    "\"\"\"\n",
    "import tensorflow as tf\n",
    "import numpy as np\n",
    "import helper\n",
    "import problem_unittests as tests\n",
    "\n",
    "_, vocab_to_int, int_to_vocab, token_dict = helper.load_preprocess()\n",
    "seq_length, load_dir = helper.load_params()"
   ]
  },
  {
   "cell_type": "markdown",
   "metadata": {},
   "source": [
    "## Implement Generate Functions\n",
    "### Get Tensors\n",
    "Get tensors from `loaded_graph` using the function [`get_tensor_by_name()`](https://www.tensorflow.org/api_docs/python/tf/Graph#get_tensor_by_name).  Get the tensors using the following names:\n",
    "- \"input:0\"\n",
    "- \"initial_state:0\"\n",
    "- \"final_state:0\"\n",
    "- \"probs:0\"\n",
    "\n",
    "Return the tensors in the following tuple `(InputTensor, InitialStateTensor, FinalStateTensor, ProbsTensor)` "
   ]
  },
  {
   "cell_type": "code",
   "execution_count": 20,
   "metadata": {},
   "outputs": [
    {
     "name": "stdout",
     "output_type": "stream",
     "text": [
      "Tests Passed\n"
     ]
    }
   ],
   "source": [
    "def get_tensors(loaded_graph):\n",
    "    \"\"\"\n",
    "    Get input, initial state, final state, and probabilities tensor from <loaded_graph>\n",
    "    :param loaded_graph: TensorFlow graph loaded from file\n",
    "    :return: Tuple (InputTensor, InitialStateTensor, FinalStateTensor, ProbsTensor)\n",
    "    \"\"\"\n",
    "    # TODO: Implement Function \n",
    "    InputTensor = loaded_graph.get_tensor_by_name(\"input:0\")\n",
    "    InitialStateTensor = loaded_graph.get_tensor_by_name(\"initial_state:0\")\n",
    "    FinalStateTensor = loaded_graph.get_tensor_by_name(\"final_state:0\")\n",
    "    ProbsTensor = loaded_graph.get_tensor_by_name(\"probs:0\") \n",
    "    return (InputTensor, InitialStateTensor,FinalStateTensor,ProbsTensor)\n",
    "\n",
    "\n",
    "\"\"\"\n",
    "DON'T MODIFY ANYTHING IN THIS CELL THAT IS BELOW THIS LINE\n",
    "\"\"\"\n",
    "tests.test_get_tensors(get_tensors)"
   ]
  },
  {
   "cell_type": "markdown",
   "metadata": {},
   "source": [
    "### Choose Word\n",
    "Implement the `pick_word()` function to select the next word using `probabilities`."
   ]
  },
  {
   "cell_type": "code",
   "execution_count": 21,
   "metadata": {},
   "outputs": [
    {
     "name": "stdout",
     "output_type": "stream",
     "text": [
      "Tests Passed\n"
     ]
    }
   ],
   "source": [
    "def pick_word(probabilities, int_to_vocab):\n",
    "    \"\"\"\n",
    "    Pick the next word in the generated text\n",
    "    :param probabilities: Probabilites of the next word\n",
    "    :param int_to_vocab: Dictionary of word ids as the keys and words as the values\n",
    "    :return: String of the predicted word\n",
    "    \"\"\"\n",
    "    # TODO: Implement Function\n",
    "    arr = np.argmax(probabilities)\n",
    "    pk = int_to_vocab[arr]\n",
    "    return pk\n",
    "    \n",
    "\n",
    "\"\"\"\n",
    "DON'T MODIFY ANYTHING IN THIS CELL THAT IS BELOW THIS LINE\n",
    "\"\"\"\n",
    "tests.test_pick_word(pick_word)"
   ]
  },
  {
   "cell_type": "markdown",
   "metadata": {},
   "source": [
    "## Generate TV Script\n",
    "This will generate the TV script for you.  Set `gen_length` to the length of TV script you want to generate."
   ]
  },
  {
   "cell_type": "code",
   "execution_count": 22,
   "metadata": {},
   "outputs": [
    {
     "name": "stdout",
     "output_type": "stream",
     "text": [
      "moe_szyslak: of the vanities\".(fast) i gotta be bothered.\n",
      "homer_simpson:(firmly) i could be a presidential to the pride.\n",
      "moe_szyslak:(stunned) oh i do you be a presidential to the gentleman's to the beach.(points) i gotta be a vacation.\n",
      "moe_szyslak:(stunned) hey.\n",
      "moe_szyslak:(singing) but i got just be a presidential to the kool aid be a rims to the gentleman's to the pride. i got a little miss you make be a breathalyzer contest.\n",
      "all:(singing) but i got a composite, utility\" and...\n",
      "homer_simpson:(singing) but i got,\n",
      "homer_simpson:(singing) but i got,\n",
      "homer_simpson:(singing) but i got, i got a little miss you be a little reserve.\n",
      "homer_simpson:(singing) but i got, i got a little miss you be a little, and i got a little miss you be a driver of the bar of the bar.\n",
      "moe_szyslak:(sings) i know, i\n"
     ]
    }
   ],
   "source": [
    "gen_length = 200\n",
    "# homer_simpson, moe_szyslak, or Barney_Gumble\n",
    "prime_word = 'moe_szyslak'\n",
    "\n",
    "\"\"\"\n",
    "DON'T MODIFY ANYTHING IN THIS CELL THAT IS BELOW THIS LINE\n",
    "\"\"\"\n",
    "loaded_graph = tf.Graph()\n",
    "with tf.Session(graph=loaded_graph) as sess:\n",
    "    # Load saved model\n",
    "    loader = tf.train.import_meta_graph(load_dir + '.meta')\n",
    "    loader.restore(sess, load_dir)\n",
    "\n",
    "    # Get Tensors from loaded model\n",
    "    input_text, initial_state, final_state, probs = get_tensors(loaded_graph)\n",
    "\n",
    "    # Sentences generation setup\n",
    "    gen_sentences = [prime_word + ':']\n",
    "    prev_state = sess.run(initial_state, {input_text: np.array([[1]])})\n",
    "\n",
    "    # Generate sentences\n",
    "    for n in range(gen_length):\n",
    "        # Dynamic Input\n",
    "        dyn_input = [[vocab_to_int[word] for word in gen_sentences[-seq_length:]]]\n",
    "        dyn_seq_length = len(dyn_input[0])\n",
    "\n",
    "        # Get Prediction\n",
    "        probabilities, prev_state = sess.run(\n",
    "            [probs, final_state],\n",
    "            {input_text: dyn_input, initial_state: prev_state})\n",
    "        \n",
    "        pred_word = pick_word(probabilities[dyn_seq_length-1], int_to_vocab)\n",
    "\n",
    "        gen_sentences.append(pred_word)\n",
    "    \n",
    "    \n",
    "    # Remove tokens\n",
    "    tv_script = ' '.join(gen_sentences)\n",
    "    for key, token in token_dict.items():\n",
    "        ending = ' ' if key in ['\\n', '(', '\"'] else ''\n",
    "        tv_script = tv_script.replace(' ' + token.lower(), key)\n",
    "    tv_script = tv_script.replace('\\n ', '\\n')\n",
    "    tv_script = tv_script.replace('( ', '(')\n",
    "        \n",
    "    print(tv_script)"
   ]
  },
  {
   "cell_type": "markdown",
   "metadata": {},
   "source": [
    "# The TV Script is Nonsensical\n",
    "It's ok if the TV script doesn't make any sense.  We trained on less than a megabyte of text.  In order to get good results, you'll have to use a smaller vocabulary or get more data.  Luckly there's more data!  As we mentioned in the begging of this project, this is a subset of [another dataset](https://www.kaggle.com/wcukierski/the-simpsons-by-the-data).  We didn't have you train on all the data, because that would take too long.  However, you are free to train your neural network on all the data.  After you complete the project, of course.\n",
    "# Submitting This Project\n",
    "When submitting this project, make sure to run all the cells before saving the notebook. Save the notebook file as \"dlnd_tv_script_generation.ipynb\" and save it as a HTML file under \"File\" -> \"Download as\". Include the \"helper.py\" and \"problem_unittests.py\" files in your submission."
   ]
  },
  {
   "cell_type": "code",
   "execution_count": null,
   "metadata": {},
   "outputs": [],
   "source": []
  },
  {
   "cell_type": "code",
   "execution_count": null,
   "metadata": {},
   "outputs": [],
   "source": []
  },
  {
   "cell_type": "code",
   "execution_count": null,
   "metadata": {},
   "outputs": [],
   "source": []
  },
  {
   "cell_type": "code",
   "execution_count": null,
   "metadata": {},
   "outputs": [],
   "source": []
  },
  {
   "cell_type": "code",
   "execution_count": null,
   "metadata": {},
   "outputs": [],
   "source": []
  }
 ],
 "metadata": {
  "kernelspec": {
   "display_name": "Python 3",
   "language": "python",
   "name": "python3"
  },
  "language_info": {
   "codemirror_mode": {
    "name": "ipython",
    "version": 3
   },
   "file_extension": ".py",
   "mimetype": "text/x-python",
   "name": "python",
   "nbconvert_exporter": "python",
   "pygments_lexer": "ipython3",
   "version": "3.5.4"
  },
  "widgets": {
   "state": {},
   "version": "1.1.2"
  }
 },
 "nbformat": 4,
 "nbformat_minor": 1
}
